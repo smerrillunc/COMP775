{
 "cells": [
  {
   "cell_type": "code",
   "execution_count": 4,
   "metadata": {},
   "outputs": [],
   "source": [
    "import pandas as pd\n",
    "import numpy as np\n",
    "import torch"
   ]
  },
  {
   "cell_type": "code",
   "execution_count": 95,
   "metadata": {},
   "outputs": [],
   "source": [
    "def square_distance(src, dst):\n",
    "    \"\"\"\n",
    "    Calculate Euclid distance between each two points.\n",
    "    src^T * dst = xn * xm + yn * ym + zn * zm；\n",
    "    sum(src^2, dim=-1) = xn*xn + yn*yn + zn*zn;\n",
    "    sum(dst^2, dim=-1) = xm*xm + ym*ym + zm*zm;\n",
    "    dist = (xn - xm)^2 + (yn - ym)^2 + (zn - zm)^2\n",
    "         = sum(src**2,dim=-1)+sum(dst**2,dim=-1)-2*src^T*dst\n",
    "    Input:\n",
    "        src: source points, [B, N, C]\n",
    "        dst: target points, [B, M, C]\n",
    "    Output:\n",
    "        dist: per-point square distance, [B, N, M]\n",
    "    \"\"\"\n",
    "    return torch.sum((src[:, :, None] - dst[:, None]) ** 2, dim=-1)\n",
    "\n",
    "def index_points(points, idx):\n",
    "    \"\"\"\n",
    "    Input:\n",
    "        points: input points data, [B, N, C]\n",
    "        idx: sample index data, [B, S, [K]]\n",
    "    Return:\n",
    "        new_points:, indexed points data, [B, S, [K], C]\n",
    "    \"\"\"\n",
    "    raw_size = idx.size()\n",
    "    idx = idx.reshape(raw_size[0], -1)\n",
    "    res = torch.gather(points, 1, idx[..., None].expand(-1, -1, points.size(-1)))\n",
    "    return res.reshape(*raw_size, -1)\n"
   ]
  },
  {
   "cell_type": "code",
   "execution_count": 13,
   "metadata": {},
   "outputs": [],
   "source": [
    "def query_ball_point(radius, nsample, xyz, new_xyz):\n",
    "    \"\"\"\n",
    "    Input:\n",
    "        radius: local region radius\n",
    "        nsample: max sample number in local region\n",
    "        xyz: all points, [B, N, 3]\n",
    "        new_xyz: query points, [B, S, 3]\n",
    "    Return:\n",
    "        group_idx: grouped points index, [B, S, nsample]\n",
    "    \"\"\"\n",
    "    device = xyz.device\n",
    "    B, N, C = xyz.shape\n",
    "    _, S, _ = new_xyz.shape\n",
    "    group_idx = torch.arange(N, dtype=torch.long).to(device).view(1, 1, N).repeat([B, S, 1])\n",
    "    sqrdists = square_distance(new_xyz, xyz)\n",
    "    group_idx[sqrdists > radius ** 2] = N\n",
    "    group_idx = group_idx.sort(dim=-1)[0][:, :, :nsample]\n",
    "    group_first = group_idx[:, :, 0].view(B, S, 1).repeat([1, 1, nsample])\n",
    "    mask = group_idx == N\n",
    "    group_idx[mask] = group_first[mask]\n",
    "    return group_idx\n"
   ]
  },
  {
   "cell_type": "code",
   "execution_count": 113,
   "metadata": {},
   "outputs": [],
   "source": [
    "radius = 20\n",
    "nsample = 2\n",
    "B = 1\n",
    "S = 3\n",
    "N = 10\n",
    "\n",
    "xyz = torch.rand(B, N, 3) * 1.0\n",
    "new_xyz = torch.rand(B, S, 3) * 1.0"
   ]
  },
  {
   "cell_type": "code",
   "execution_count": 114,
   "metadata": {},
   "outputs": [
    {
     "data": {
      "text/plain": [
       "tensor([[[8.7886e-01, 9.4075e-01, 8.3077e-01],\n",
       "         [5.6785e-01, 7.9251e-01, 6.8068e-01],\n",
       "         [4.1897e-01, 9.3082e-01, 2.4444e-01],\n",
       "         [7.0621e-01, 5.6720e-01, 5.0883e-01],\n",
       "         [5.5471e-01, 4.9437e-01, 7.6719e-01],\n",
       "         [3.6126e-01, 2.3615e-04, 7.8746e-01],\n",
       "         [8.5152e-02, 8.4506e-01, 7.4679e-01],\n",
       "         [1.3982e-01, 9.7048e-01, 5.9605e-01],\n",
       "         [6.7859e-01, 2.4837e-02, 9.4025e-01],\n",
       "         [5.7001e-02, 4.2502e-01, 8.4366e-01]]])"
      ]
     },
     "execution_count": 114,
     "metadata": {},
     "output_type": "execute_result"
    }
   ],
   "source": [
    "xyz"
   ]
  },
  {
   "cell_type": "code",
   "execution_count": 115,
   "metadata": {},
   "outputs": [
    {
     "data": {
      "text/plain": [
       "tensor([[[0.9250, 0.7176, 0.8224],\n",
       "         [0.6307, 0.5977, 0.1762],\n",
       "         [0.5833, 0.9340, 0.2189]]])"
      ]
     },
     "execution_count": 115,
     "metadata": {},
     "output_type": "execute_result"
    }
   ],
   "source": [
    "new_xyz"
   ]
  },
  {
   "cell_type": "code",
   "execution_count": 116,
   "metadata": {},
   "outputs": [],
   "source": [
    "idx = query_ball_point(radius**0.5, nsample, xyz, new_xyz)"
   ]
  },
  {
   "cell_type": "code",
   "execution_count": 117,
   "metadata": {},
   "outputs": [],
   "source": [
    "grouped_points = index_points(xyz, idx)"
   ]
  },
  {
   "cell_type": "code",
   "execution_count": 118,
   "metadata": {},
   "outputs": [
    {
     "data": {
      "text/plain": [
       "tensor([[[[0.8789, 0.9407, 0.8308],\n",
       "          [0.5679, 0.7925, 0.6807]],\n",
       "\n",
       "         [[0.8789, 0.9407, 0.8308],\n",
       "          [0.5679, 0.7925, 0.6807]],\n",
       "\n",
       "         [[0.8789, 0.9407, 0.8308],\n",
       "          [0.5679, 0.7925, 0.6807]]]])"
      ]
     },
     "execution_count": 118,
     "metadata": {},
     "output_type": "execute_result"
    }
   ],
   "source": [
    "grouped_points"
   ]
  },
  {
   "cell_type": "code",
   "execution_count": 119,
   "metadata": {},
   "outputs": [],
   "source": [
    "local_feat = grouped_points - new_xyz.view(B, S, 1, -1)"
   ]
  },
  {
   "cell_type": "code",
   "execution_count": 120,
   "metadata": {},
   "outputs": [
    {
     "data": {
      "text/plain": [
       "torch.Size([1, 3, 2, 3])"
      ]
     },
     "execution_count": 120,
     "metadata": {},
     "output_type": "execute_result"
    }
   ],
   "source": [
    "local_feat.shape"
   ]
  },
  {
   "cell_type": "code",
   "execution_count": 121,
   "metadata": {},
   "outputs": [
    {
     "data": {
      "text/plain": [
       "tensor([[[[-0.0462,  0.2231,  0.0084],\n",
       "          [-0.3572,  0.0749, -0.1417]],\n",
       "\n",
       "         [[ 0.2482,  0.3430,  0.6545],\n",
       "          [-0.0628,  0.1948,  0.5045]],\n",
       "\n",
       "         [[ 0.2956,  0.0067,  0.6119],\n",
       "          [-0.0154, -0.1415,  0.4618]]]])"
      ]
     },
     "execution_count": 121,
     "metadata": {},
     "output_type": "execute_result"
    }
   ],
   "source": [
    "local_feat"
   ]
  },
  {
   "cell_type": "code",
   "execution_count": 122,
   "metadata": {},
   "outputs": [
    {
     "data": {
      "text/plain": [
       "tensor([[[[-0.0462,  0.2231,  0.0084, -0.0462,  0.2231,  0.0084],\n",
       "          [-0.3572,  0.0749, -0.1417, -0.3572,  0.0749, -0.1417]],\n",
       "\n",
       "         [[ 0.2482,  0.3430,  0.6545,  0.2482,  0.3430,  0.6545],\n",
       "          [-0.0628,  0.1948,  0.5045, -0.0628,  0.1948,  0.5045]],\n",
       "\n",
       "         [[ 0.2956,  0.0067,  0.6119,  0.2956,  0.0067,  0.6119],\n",
       "          [-0.0154, -0.1415,  0.4618, -0.0154, -0.1415,  0.4618]]]])"
      ]
     },
     "execution_count": 122,
     "metadata": {},
     "output_type": "execute_result"
    }
   ],
   "source": [
    "torch.cat((local_feat, local_feat), dim=-1)"
   ]
  },
  {
   "cell_type": "code",
   "execution_count": 124,
   "metadata": {},
   "outputs": [
    {
     "data": {
      "text/plain": [
       "tensor([[[2.3694e-38, 2.3694e-38],\n",
       "         [2.3694e-38, 2.3694e-38],\n",
       "         [3.6013e-43, 0.0000e+00]]])"
      ]
     },
     "execution_count": 124,
     "metadata": {},
     "output_type": "execute_result"
    }
   ],
   "source": [
    "torch.empty(B, S, nsample)"
   ]
  },
  {
   "cell_type": "code",
   "execution_count": 125,
   "metadata": {},
   "outputs": [
    {
     "data": {
      "text/plain": [
       "tensor([[[[-0.0462,  0.2231,  0.0084],\n",
       "          [-0.3572,  0.0749, -0.1417]],\n",
       "\n",
       "         [[ 0.2482,  0.3430,  0.6545],\n",
       "          [-0.0628,  0.1948,  0.5045]],\n",
       "\n",
       "         [[ 0.2956,  0.0067,  0.6119],\n",
       "          [-0.0154, -0.1415,  0.4618]]]])"
      ]
     },
     "execution_count": 125,
     "metadata": {},
     "output_type": "execute_result"
    }
   ],
   "source": [
    "local_feat"
   ]
  },
  {
   "cell_type": "code",
   "execution_count": null,
   "metadata": {},
   "outputs": [],
   "source": []
  }
 ],
 "metadata": {
  "kernelspec": {
   "display_name": "Python 3",
   "language": "python",
   "name": "python3"
  },
  "language_info": {
   "codemirror_mode": {
    "name": "ipython",
    "version": 3
   },
   "file_extension": ".py",
   "mimetype": "text/x-python",
   "name": "python",
   "nbconvert_exporter": "python",
   "pygments_lexer": "ipython3",
   "version": "3.7.6"
  }
 },
 "nbformat": 4,
 "nbformat_minor": 4
}
