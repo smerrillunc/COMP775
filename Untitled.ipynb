{
 "cells": [
  {
   "cell_type": "code",
   "execution_count": 1,
   "metadata": {},
   "outputs": [],
   "source": [
    "import pandas as pd\n",
    "import numpy as np"
   ]
  },
  {
   "cell_type": "code",
   "execution_count": null,
   "metadata": {},
   "outputs": [],
   "source": []
  },
  {
   "cell_type": "code",
   "execution_count": 24,
   "metadata": {},
   "outputs": [],
   "source": [
    "# we have an array of xyz and we want to seprate them into some 3d grid groupings\n",
    "# we have an array of xyz\n",
    "xyz = np.random.normal(loc=0, scale=10, size=(100, 3))\n",
    "\n",
    "# \n"
   ]
  },
  {
   "cell_type": "code",
   "execution_count": 84,
   "metadata": {},
   "outputs": [],
   "source": [
    "def discretize_points(xyz, cube_dim):\n",
    "    \"\"\"\n",
    "    Description: This function groups N x 3 array of xyz\n",
    "    indexes and returns a corresponding array of indexes to which each\n",
    "    point should be assigned in a 3d with a total of cube_dim^3 blocks\n",
    "    \n",
    "    inputs:\n",
    "        xyz: an N x 3 list of xyz points\n",
    "        cube_dim: the dimension of the 3d cube to discretize x into\n",
    "    \n",
    "    outputs:\n",
    "        xyz_groupings: an N x 3 list which provides the index of the cube\n",
    "        for which each xyz coordinate should be mapped\n",
    "    \"\"\"\n",
    "    \n",
    "    # get mins/maxes in range\n",
    "    min_x, min_y, min_z = np.min(xyz, axis=0)\n",
    "    max_x, max_y, max_z = np.max(xyz, axis=0)\n",
    "    \n",
    "    # number of points in 3d cube\n",
    "    num_x_points, num_y_points, num_z_points = cube_dim, cube_dim, cube_dim\n",
    "\n",
    "    \n",
    "    #####################################################################\n",
    "    # Leaving this here as a sanity check for our more efficient output #\n",
    "    #####################################################################\n",
    "    # create cube barriers\n",
    "    #x = np.linspace(min_x, max_x, num_x_points)\n",
    "    #y = np.linspace(min_y, max_y, num_y_points)\n",
    "    #z = np.linspace(min_z, max_z, num_z_points)\n",
    "    \n",
    "    # x_indexes = np.expand_dims(np.searchsorted(x, xyz[:,0]), axis=1)\n",
    "    # y_indexes = np.expand_dims(np.searchsorted(y, xyz[:,1]), axis=1)\n",
    "    # z_indexes = np.expand_dims(np.searchsorted(z, xyz[:,2]), axis=1)\n",
    "    #####################################################################\n",
    "    \n",
    "    # can find which cube they belong to mathematically\n",
    "    x_indexes = np.expand_dims(np.floor((xyz[:,0] - min_x)/(max_x-min_x)*num_x_points), axis=1)\n",
    "    y_indexes = np.expand_dims(np.floor((xyz[:,1] - min_y)/(max_y-min_y)*num_y_points), axis=1)\n",
    "    z_indexes = np.expand_dims(np.floor((xyz[:,2] - min_z)/(max_z-min_z)*num_z_points), axis=1)\n",
    "\n",
    "    # stacking these together, we get groupings\n",
    "    xyz_groupings = np.hstack([x_indexes, y_indexes, z_indexes])\n",
    "    return xyz_groupings"
   ]
  },
  {
   "cell_type": "code",
   "execution_count": 85,
   "metadata": {},
   "outputs": [
    {
     "data": {
      "text/plain": [
       "array([[ 2.,  3.,  2.],\n",
       "       [ 4.,  0.,  3.],\n",
       "       [ 0.,  8.,  4.],\n",
       "       [ 3.,  6.,  6.],\n",
       "       [ 2.,  2.,  5.],\n",
       "       [ 8.,  2.,  4.],\n",
       "       [ 1.,  6.,  4.],\n",
       "       [ 4.,  1.,  6.],\n",
       "       [ 4.,  3.,  7.],\n",
       "       [ 4.,  2.,  5.],\n",
       "       [ 3.,  3.,  4.],\n",
       "       [ 3.,  6.,  7.],\n",
       "       [ 4.,  6.,  4.],\n",
       "       [ 5.,  4., 10.],\n",
       "       [ 4.,  0.,  5.],\n",
       "       [ 7.,  0.,  2.],\n",
       "       [ 5.,  6.,  5.],\n",
       "       [ 5.,  5.,  7.],\n",
       "       [ 2.,  9.,  6.],\n",
       "       [ 5.,  7.,  7.],\n",
       "       [ 1.,  5.,  8.],\n",
       "       [ 4.,  2.,  3.],\n",
       "       [ 3.,  5.,  3.],\n",
       "       [ 4.,  4.,  7.],\n",
       "       [ 4.,  6.,  6.],\n",
       "       [ 4.,  3.,  8.],\n",
       "       [ 3.,  0.,  3.],\n",
       "       [ 4.,  5.,  1.],\n",
       "       [ 5.,  3.,  8.],\n",
       "       [ 2.,  3.,  5.],\n",
       "       [ 3.,  6.,  4.],\n",
       "       [ 3.,  5.,  6.],\n",
       "       [ 6.,  5.,  6.],\n",
       "       [ 0.,  3.,  7.],\n",
       "       [ 2.,  8.,  6.],\n",
       "       [ 3.,  4.,  9.],\n",
       "       [ 5.,  5.,  6.],\n",
       "       [ 5.,  5.,  5.],\n",
       "       [ 3.,  4.,  2.],\n",
       "       [ 3.,  2.,  5.],\n",
       "       [ 7.,  4.,  7.],\n",
       "       [ 2.,  3.,  6.],\n",
       "       [ 7.,  1.,  6.],\n",
       "       [ 3.,  3.,  8.],\n",
       "       [ 4.,  2.,  1.],\n",
       "       [ 5.,  1.,  4.],\n",
       "       [ 7.,  3.,  5.],\n",
       "       [ 3.,  3.,  4.],\n",
       "       [ 6.,  7.,  4.],\n",
       "       [ 3.,  0.,  3.],\n",
       "       [ 3.,  4.,  6.],\n",
       "       [ 6.,  3.,  3.],\n",
       "       [ 7.,  5.,  8.],\n",
       "       [ 7.,  4.,  4.],\n",
       "       [ 2.,  2.,  7.],\n",
       "       [10.,  7.,  6.],\n",
       "       [ 3.,  4.,  0.],\n",
       "       [ 4.,  2.,  8.],\n",
       "       [ 4.,  7.,  5.],\n",
       "       [ 3.,  5.,  4.],\n",
       "       [ 8.,  4.,  4.],\n",
       "       [ 5.,  2.,  5.],\n",
       "       [ 1.,  5.,  4.],\n",
       "       [ 1.,  3.,  5.],\n",
       "       [ 4.,  1.,  3.],\n",
       "       [ 3.,  5.,  7.],\n",
       "       [ 6.,  2.,  4.],\n",
       "       [ 7.,  6.,  6.],\n",
       "       [ 2.,  5.,  4.],\n",
       "       [ 5.,  4.,  4.],\n",
       "       [ 5.,  5.,  6.],\n",
       "       [ 5.,  2.,  4.],\n",
       "       [ 4.,  4.,  6.],\n",
       "       [ 4.,  5.,  4.],\n",
       "       [ 7.,  1.,  3.],\n",
       "       [ 3.,  8.,  0.],\n",
       "       [ 4.,  3.,  5.],\n",
       "       [ 3.,  2.,  7.],\n",
       "       [ 4.,  3.,  7.],\n",
       "       [ 4.,  4.,  5.],\n",
       "       [ 6.,  2.,  6.],\n",
       "       [ 5.,  6.,  3.],\n",
       "       [ 7.,  2.,  4.],\n",
       "       [ 4.,  4.,  3.],\n",
       "       [ 4.,  5.,  5.],\n",
       "       [ 9.,  4.,  6.],\n",
       "       [ 5., 10.,  4.],\n",
       "       [ 4.,  2.,  8.],\n",
       "       [ 7.,  6.,  6.],\n",
       "       [ 3.,  3.,  5.],\n",
       "       [ 4.,  4.,  7.],\n",
       "       [ 3.,  5.,  6.],\n",
       "       [ 5.,  5.,  5.],\n",
       "       [ 5.,  0.,  9.],\n",
       "       [ 8.,  4.,  4.],\n",
       "       [ 4.,  6.,  7.],\n",
       "       [ 3.,  4.,  1.],\n",
       "       [ 3.,  2.,  4.],\n",
       "       [ 5.,  8.,  9.],\n",
       "       [ 5.,  5.,  4.]])"
      ]
     },
     "execution_count": 85,
     "metadata": {},
     "output_type": "execute_result"
    }
   ],
   "source": [
    "discretize_points(xyz, 10)\n"
   ]
  },
  {
   "cell_type": "code",
   "execution_count": 64,
   "metadata": {},
   "outputs": [],
   "source": [
    "num_x_points, num_y_points, num_z_points = 10, 10, 10\n",
    "\n",
    "x = np.linspace(min_x, max_x, num_x_points)\n",
    "y = np.linspace(min_y, max_y, num_y_points)\n",
    "z = np.linspace(min_z, max_z, num_z_points)\n",
    "\n",
    "x_indexes = np.expand_dims(np.searchsorted(x, xyz[:,0]), axis=1)\n",
    "y_indexes = np.expand_dims(np.searchsorted(y, xyz[:,1]), axis=1)\n",
    "z_indexes = np.expand_dims(np.searchsorted(z, xyz[:,2]), axis=1)\n",
    "\n",
    "xyz_groupings = np.hstack([x_indexes, y_indexes, z_indexes])"
   ]
  },
  {
   "cell_type": "code",
   "execution_count": 81,
   "metadata": {},
   "outputs": [
    {
     "data": {
      "text/plain": [
       "array([[-13.09039754,  -6.22520497, -17.65021966],\n",
       "       [ -2.31354999, -18.25048886, -12.70964311],\n",
       "       [-22.95661979,  16.76832798,  -8.7562857 ],\n",
       "       [ -7.16578266,  11.66760149,   0.59292987],\n",
       "       [ -9.84254224,  -7.95437803,  -2.37979771],\n",
       "       [ 16.80125606,  -8.31861279,  -6.08526275],\n",
       "       [-13.66003348,  11.19613127,  -5.28198362],\n",
       "       [ -1.79046325, -13.54603314,   3.53732443],\n",
       "       [ -2.57634432,  -5.30233364,   7.63578464],\n",
       "       [ -0.76822692,  -9.35324644,  -0.9001058 ],\n",
       "       [ -7.6509743 ,  -3.94238814,  -5.03111731],\n",
       "       [ -5.83188103,  11.06862584,   7.11865337],\n",
       "       [ -0.84698903,   7.93357669,  -7.67523509],\n",
       "       [  4.98908099,  -0.29683501,  18.61480523],\n",
       "       [ -0.14883905, -15.82571787,  -1.79418472],\n",
       "       [ 14.87161342, -16.3894238 , -16.7219569 ],\n",
       "       [  1.68905672,  10.65847519,  -3.57782493],\n",
       "       [  4.80524944,   5.41508663,   7.42530727],\n",
       "       [-11.9894332 ,  22.31776851,   0.05537699],\n",
       "       [  3.86841705,  15.91027229,   4.82867106],\n",
       "       [-16.56910598,   5.20148963,   9.70869468],\n",
       "       [  0.16654657,  -9.84868174, -11.92023839],\n",
       "       [ -4.09236308,   6.45871939, -14.04738136],\n",
       "       [ -3.33779302,   0.22915573,   5.67475054],\n",
       "       [ -0.77356625,   7.58628726,   2.0723688 ],\n",
       "       [ -3.05613481,  -1.88703429,  10.24805681],\n",
       "       [ -6.05417883, -19.46130266, -10.97703465],\n",
       "       [ -1.74368186,   6.00278962, -22.55861554],\n",
       "       [  3.56554251,  -4.4692682 ,  11.43321827],\n",
       "       [-12.82337219,  -3.64247452,  -2.69614678],\n",
       "       [ -5.36464829,   9.48707851,  -6.86153655],\n",
       "       [ -3.53785906,   3.56744588,   2.17009154],\n",
       "       [  7.38243351,   4.88463668,   2.44187349],\n",
       "       [-18.15990311,  -2.20542463,   8.73352088],\n",
       "       [ -9.56179962,  18.25013562,   0.1737611 ],\n",
       "       [ -4.0633373 ,   1.93364059,  18.56977225],\n",
       "       [  3.50576288,   6.27427234,   1.58314605],\n",
       "       [  5.66863432,   4.36142834,  -3.05849927],\n",
       "       [ -5.01448984,  -1.50676962, -14.32347637],\n",
       "       [ -7.77519025,  -8.5334295 ,  -2.48174683],\n",
       "       [ 13.68489509,   2.73861061,   5.63159761],\n",
       "       [ -8.97073062,  -5.95575016,   3.1853574 ],\n",
       "       [ 15.81798448, -12.10354763,   2.59203358],\n",
       "       [ -4.0074402 ,  -2.42174348,   9.70364745],\n",
       "       [  0.13391143, -10.39308043, -20.77525481],\n",
       "       [  2.98180436, -14.33250861,  -8.26148944],\n",
       "       [ 14.06816473,  -3.15505207,  -0.99269627],\n",
       "       [ -6.03204664,  -4.24327922,  -5.89481245],\n",
       "       [  9.88383136,  15.9169787 ,  -9.49009753],\n",
       "       [ -5.28276338, -20.08502952, -11.34266217],\n",
       "       [ -6.6361331 ,   0.90634353,   1.33812022],\n",
       "       [  6.23308275,  -3.27910068, -11.05107772],\n",
       "       [ 13.68141642,   3.60931112,  12.54832467],\n",
       "       [ 12.16505599,   1.78607549,  -9.54845005],\n",
       "       [-13.05013896, -10.4568928 ,   5.52541666],\n",
       "       [ 25.60517663,  12.17114599,   0.16692145],\n",
       "       [ -3.62092123,  -1.09518959, -26.16898318],\n",
       "       [ -1.05463729,  -6.54605469,  12.99697433],\n",
       "       [ -2.2576561 ,  14.52468036,  -3.74588802],\n",
       "       [ -6.23512112,   6.43800915,  -7.43687949],\n",
       "       [ 18.60338094,   1.70977134,  -7.23244781],\n",
       "       [  5.36720129, -10.44279933,  -4.78766943],\n",
       "       [-16.81848101,   5.28778741,  -6.43753551],\n",
       "       [-14.05982326,  -2.29533152,  -1.06432506],\n",
       "       [  0.69992638, -12.6397101 , -11.86596471],\n",
       "       [ -7.72695582,   2.9191357 ,   5.23790141],\n",
       "       [ 10.61967357,  -6.67624525,  -8.86738839],\n",
       "       [ 14.53316691,   7.72690636,   1.52432904],\n",
       "       [ -9.53520954,   6.42735068,  -7.53141968],\n",
       "       [  1.45036353,   2.24513078,  -9.40224544],\n",
       "       [  5.18353184,   2.95963274,   0.89172109],\n",
       "       [  1.43914236,  -8.76583542,  -5.53821321],\n",
       "       [ -1.95174379,   2.6306659 ,  -0.07441301],\n",
       "       [ -1.69660426,   2.87738814,  -5.21638914],\n",
       "       [ 15.17244097, -12.54937542, -11.82305426],\n",
       "       [ -4.54197509,  19.77114727, -28.43617203],\n",
       "       [ -2.48145628,  -5.5111835 ,  -0.63755054],\n",
       "       [ -5.51966544,  -9.25097975,   4.63494816],\n",
       "       [ -1.25791651,  -2.71596265,   5.07377964],\n",
       "       [ -0.07300692,   0.905404  ,  -1.4468688 ],\n",
       "       [  9.55942168,  -9.04003597,   1.06866546],\n",
       "       [  1.63526099,  11.849283  , -12.67415155],\n",
       "       [ 11.70586028,  -7.31452907,  -4.93206291],\n",
       "       [  0.38658944,  -1.64977703, -11.24168649],\n",
       "       [ -0.91339626,   5.73025966,  -2.62044059],\n",
       "       [ 22.90279632,   0.78182766,   3.90714037],\n",
       "       [  1.63361932,  25.61397906,  -5.59034841],\n",
       "       [ -1.86209302,  -7.72968452,   9.75197722],\n",
       "       [ 14.34892175,   9.2451124 ,   4.22175899],\n",
       "       [ -5.50958442,  -5.4455958 ,  -3.08529369],\n",
       "       [ -1.48446318,  -0.66252535,   7.19323613],\n",
       "       [ -7.94820931,   4.76471812,   2.73420905],\n",
       "       [  4.11801262,   3.52947628,  -2.65389857],\n",
       "       [  1.7711048 , -19.11329874,  16.28901951],\n",
       "       [ 17.23532172,  -0.68836269,  -5.26833901],\n",
       "       [  0.98299852,   8.09369599,   5.7224021 ],\n",
       "       [ -4.88210749,   1.38835437, -21.91002434],\n",
       "       [ -4.62995038, -10.17385017,  -9.06038986],\n",
       "       [  2.14215269,  20.71540393,  14.84315715],\n",
       "       [  4.8038799 ,   3.52268304,  -9.34386812]])"
      ]
     },
     "execution_count": 81,
     "metadata": {},
     "output_type": "execute_result"
    }
   ],
   "source": [
    "xyz"
   ]
  },
  {
   "cell_type": "code",
   "execution_count": 74,
   "metadata": {},
   "outputs": [
    {
     "data": {
      "text/plain": [
       "array([ 2.,  4.,  0.,  3.,  2.,  8.,  1.,  4.,  4.,  4.,  3.,  3.,  4.,\n",
       "        5.,  4.,  7.,  5.,  5.,  2.,  5.,  1.,  4.,  3.,  4.,  4.,  4.,\n",
       "        3.,  4.,  5.,  2.,  3.,  3.,  6.,  0.,  2.,  3.,  5.,  5.,  3.,\n",
       "        3.,  7.,  2.,  7.,  3.,  4.,  5.,  7.,  3.,  6.,  3.,  3.,  6.,\n",
       "        7.,  7.,  2., 10.,  3.,  4.,  4.,  3.,  8.,  5.,  1.,  1.,  4.,\n",
       "        3.,  6.,  7.,  2.,  5.,  5.,  5.,  4.,  4.,  7.,  3.,  4.,  3.,\n",
       "        4.,  4.,  6.,  5.,  7.,  4.,  4.,  9.,  5.,  4.,  7.,  3.,  4.,\n",
       "        3.,  5.,  5.,  8.,  4.,  3.,  3.,  5.,  5.])"
      ]
     },
     "execution_count": 74,
     "metadata": {},
     "output_type": "execute_result"
    }
   ],
   "source": [
    "np.floor((xyz[:,0] - min_x)/(max_x-min_x)*10)"
   ]
  },
  {
   "cell_type": "code",
   "execution_count": 2,
   "metadata": {},
   "outputs": [],
   "source": [
    "import torch"
   ]
  },
  {
   "cell_type": "code",
   "execution_count": 3,
   "metadata": {},
   "outputs": [],
   "source": [
    "# grouped points is B, S, K, C\n",
    "# new_points is B, S, C\n",
    "B = 1\n",
    "S = 2\n",
    "K = 2\n",
    "C = 3\n",
    "grouped_points = torch.rand((B, S, K, C))\n",
    "new_points = torch.rand((B, S, C))\n"
   ]
  },
  {
   "cell_type": "code",
   "execution_count": 4,
   "metadata": {},
   "outputs": [
    {
     "data": {
      "text/plain": [
       "tensor([[[[0.0512, 0.7850, 0.7228],\n",
       "          [0.8282, 0.4472, 0.9060]],\n",
       "\n",
       "         [[0.6107, 0.4664, 0.9287],\n",
       "          [0.1586, 0.1368, 0.2387]]]])"
      ]
     },
     "execution_count": 4,
     "metadata": {},
     "output_type": "execute_result"
    }
   ],
   "source": [
    "grouped_points"
   ]
  },
  {
   "cell_type": "code",
   "execution_count": 5,
   "metadata": {},
   "outputs": [
    {
     "data": {
      "text/plain": [
       "tensor([[[0.8176, 0.0234, 0.9871],\n",
       "         [0.5311, 0.9913, 0.3642]]])"
      ]
     },
     "execution_count": 5,
     "metadata": {},
     "output_type": "execute_result"
    }
   ],
   "source": [
    "new_points"
   ]
  },
  {
   "cell_type": "code",
   "execution_count": 6,
   "metadata": {},
   "outputs": [
    {
     "data": {
      "text/plain": [
       "tensor([[[[-0.7664,  0.7616, -0.2643],\n",
       "          [ 0.0105,  0.4238, -0.0811]],\n",
       "\n",
       "         [[ 0.0796, -0.5249,  0.5645],\n",
       "          [-0.3725, -0.8545, -0.1254]]]])"
      ]
     },
     "execution_count": 6,
     "metadata": {},
     "output_type": "execute_result"
    }
   ],
   "source": [
    "(grouped_points - new_points.view(B, S, 1, -1))"
   ]
  },
  {
   "cell_type": "code",
   "execution_count": 37,
   "metadata": {},
   "outputs": [
    {
     "data": {
      "text/plain": [
       "tensor([[[[0.5430],\n",
       "          [1.1102]],\n",
       "\n",
       "         [[0.7895],\n",
       "          [0.2154]]]])"
      ]
     },
     "execution_count": 37,
     "metadata": {},
     "output_type": "execute_result"
    }
   ],
   "source": [
    "torch.sum((grouped_points * new_points.view(B, S, 1, -1)), keepdims=True, dim=-1)/1.42490334"
   ]
  },
  {
   "cell_type": "code",
   "execution_count": 8,
   "metadata": {},
   "outputs": [
    {
     "data": {
      "text/plain": [
       "tensor([[[[0.0512, 0.7850, 0.7228],\n",
       "          [0.8282, 0.4472, 0.9060]],\n",
       "\n",
       "         [[0.6107, 0.4664, 0.9287],\n",
       "          [0.1586, 0.1368, 0.2387]]]])"
      ]
     },
     "execution_count": 8,
     "metadata": {},
     "output_type": "execute_result"
    }
   ],
   "source": [
    "grouped_points"
   ]
  },
  {
   "cell_type": "code",
   "execution_count": 11,
   "metadata": {},
   "outputs": [
    {
     "data": {
      "text/plain": [
       "tensor([[[[1.0683],\n",
       "          [1.3064]],\n",
       "\n",
       "         [[1.2054],\n",
       "          [0.3176]]]])"
      ]
     },
     "execution_count": 11,
     "metadata": {},
     "output_type": "execute_result"
    }
   ],
   "source": [
    "torch.linalg.vector_norm(grouped_points, keepdims=True,dim=-1)"
   ]
  },
  {
   "cell_type": "code",
   "execution_count": 31,
   "metadata": {},
   "outputs": [
    {
     "data": {
      "text/plain": [
       "tensor([[[[1.2820]],\n",
       "\n",
       "         [[1.1821]]]])"
      ]
     },
     "execution_count": 31,
     "metadata": {},
     "output_type": "execute_result"
    }
   ],
   "source": [
    "torch.linalg.vector_norm(new_points.view(B, S, 1, -1), keepdims=True,dim=-1)"
   ]
  },
  {
   "cell_type": "code",
   "execution_count": 36,
   "metadata": {},
   "outputs": [
    {
     "data": {
      "text/plain": [
       "1.42490334"
      ]
     },
     "execution_count": 36,
     "metadata": {},
     "output_type": "execute_result"
    }
   ],
   "source": [
    "1.2054*1.1821"
   ]
  },
  {
   "cell_type": "code",
   "execution_count": 15,
   "metadata": {},
   "outputs": [
    {
     "data": {
      "text/plain": [
       "tensor([[[0.8176, 0.0234, 0.9871],\n",
       "         [0.5311, 0.9913, 0.3642]]])"
      ]
     },
     "execution_count": 15,
     "metadata": {},
     "output_type": "execute_result"
    }
   ],
   "source": [
    "new_points"
   ]
  },
  {
   "cell_type": "code",
   "execution_count": 27,
   "metadata": {},
   "outputs": [
    {
     "data": {
      "text/plain": [
       "1.1821102063682556"
      ]
     },
     "execution_count": 27,
     "metadata": {},
     "output_type": "execute_result"
    }
   ],
   "source": [
    "(0.5311**2 + 0.9913**2 + 0.3642**2)**0.5\n"
   ]
  },
  {
   "cell_type": "code",
   "execution_count": 20,
   "metadata": {},
   "outputs": [
    {
     "data": {
      "text/plain": [
       "tensor([[[[0.5649],\n",
       "          [0.9446]],\n",
       "\n",
       "         [[0.7895],\n",
       "          [0.8172]]]])"
      ]
     },
     "execution_count": 20,
     "metadata": {},
     "output_type": "execute_result"
    }
   ],
   "source": [
    "torch.sum((grouped_points * new_points.view(B, S, 1, -1)), keepdims=True, dim=-1) / (\n",
    "    torch.linalg.vector_norm(grouped_points, keepdims=True,dim=-1) *\n",
    "    torch.linalg.vector_norm(new_points.view(B, S, 1, -1), keepdims=True, dim=-1) \n",
    ")"
   ]
  },
  {
   "cell_type": "code",
   "execution_count": 30,
   "metadata": {},
   "outputs": [
    {
     "data": {
      "text/plain": [
       "1.5747613730938326"
      ]
     },
     "execution_count": 30,
     "metadata": {},
     "output_type": "execute_result"
    }
   ],
   "source": [
    "1.2054 * 1.3064222441462026"
   ]
  },
  {
   "cell_type": "code",
   "execution_count": null,
   "metadata": {},
   "outputs": [],
   "source": []
  }
 ],
 "metadata": {
  "kernelspec": {
   "display_name": "Python 3",
   "language": "python",
   "name": "python3"
  },
  "language_info": {
   "codemirror_mode": {
    "name": "ipython",
    "version": 3
   },
   "file_extension": ".py",
   "mimetype": "text/x-python",
   "name": "python",
   "nbconvert_exporter": "python",
   "pygments_lexer": "ipython3",
   "version": "3.7.6"
  }
 },
 "nbformat": 4,
 "nbformat_minor": 4
}
